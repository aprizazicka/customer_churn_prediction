{
  "cells": [
    {
      "cell_type": "markdown",
      "metadata": {
        "id": "YkwXEyDKw2WB"
      },
      "source": [
        "# **DS Project: Customer Churn Prediction**\n",
        "- **Name:** Apriza Zicka Rizquina\n",
        "- **Email:** aprizazickaa@gmail.com"
      ]
    },
    {
      "cell_type": "markdown",
      "metadata": {},
      "source": [
        "## **Import Library**"
      ]
    },
    {
      "cell_type": "code",
      "execution_count": 1,
      "metadata": {
        "id": "xmGhxewrF4R4"
      },
      "outputs": [],
      "source": [
        "import pandas as pd\n",
        "import seaborn as sns\n",
        "import matplotlib.pyplot as plt\n",
        "import numpy as np\n",
        "from sklearn.model_selection import train_test_split\n",
        "from imblearn.over_sampling import SMOTE\n",
        "from sklearn.ensemble import RandomForestClassifier\n",
        "from sklearn.metrics import classification_report\n",
        "import xgboost as xgb\n",
        "from sklearn.tree import DecisionTreeClassifier\n",
        "from sklearn.metrics import confusion_matrix\n",
        "from sklearn.model_selection import cross_val_score, KFold\n",
        "from sklearn.model_selection import GridSearchCV\n",
        "import pickle\n",
        "import joblib\n",
        "from sklearn.metrics import roc_auc_score, roc_curve"
      ]
    },
    {
      "cell_type": "markdown",
      "metadata": {},
      "source": [
        "## **Load Data**"
      ]
    },
    {
      "cell_type": "code",
      "execution_count": 2,
      "metadata": {
        "colab": {
          "base_uri": "https://localhost:8080/",
          "height": 226
        },
        "id": "jMZVQvhJGk_6",
        "outputId": "d039faa2-64ba-42fc-dc82-ce32f4671e76"
      },
      "outputs": [
        {
          "data": {
            "text/html": [
              "<div>\n",
              "<style scoped>\n",
              "    .dataframe tbody tr th:only-of-type {\n",
              "        vertical-align: middle;\n",
              "    }\n",
              "\n",
              "    .dataframe tbody tr th {\n",
              "        vertical-align: top;\n",
              "    }\n",
              "\n",
              "    .dataframe thead th {\n",
              "        text-align: right;\n",
              "    }\n",
              "</style>\n",
              "<table border=\"1\" class=\"dataframe\">\n",
              "  <thead>\n",
              "    <tr style=\"text-align: right;\">\n",
              "      <th></th>\n",
              "      <th>state</th>\n",
              "      <th>account_length</th>\n",
              "      <th>area_code</th>\n",
              "      <th>international_plan</th>\n",
              "      <th>voice_mail_plan</th>\n",
              "      <th>number_vmail_messages</th>\n",
              "      <th>total_day_minutes</th>\n",
              "      <th>total_day_calls</th>\n",
              "      <th>total_day_charge</th>\n",
              "      <th>total_eve_minutes</th>\n",
              "      <th>total_eve_calls</th>\n",
              "      <th>total_eve_charge</th>\n",
              "      <th>total_night_minutes</th>\n",
              "      <th>total_night_calls</th>\n",
              "      <th>total_night_charge</th>\n",
              "      <th>total_intl_minutes</th>\n",
              "      <th>total_intl_calls</th>\n",
              "      <th>total_intl_charge</th>\n",
              "      <th>number_customer_service_calls</th>\n",
              "      <th>churn</th>\n",
              "    </tr>\n",
              "  </thead>\n",
              "  <tbody>\n",
              "    <tr>\n",
              "      <th>0</th>\n",
              "      <td>OH</td>\n",
              "      <td>107</td>\n",
              "      <td>area_code_415</td>\n",
              "      <td>no</td>\n",
              "      <td>yes</td>\n",
              "      <td>26</td>\n",
              "      <td>161.6</td>\n",
              "      <td>123</td>\n",
              "      <td>27.47</td>\n",
              "      <td>195.5</td>\n",
              "      <td>103</td>\n",
              "      <td>16.62</td>\n",
              "      <td>254.4</td>\n",
              "      <td>103</td>\n",
              "      <td>11.45</td>\n",
              "      <td>13.7</td>\n",
              "      <td>3</td>\n",
              "      <td>3.70</td>\n",
              "      <td>1</td>\n",
              "      <td>no</td>\n",
              "    </tr>\n",
              "    <tr>\n",
              "      <th>1</th>\n",
              "      <td>NJ</td>\n",
              "      <td>137</td>\n",
              "      <td>area_code_415</td>\n",
              "      <td>no</td>\n",
              "      <td>no</td>\n",
              "      <td>0</td>\n",
              "      <td>243.4</td>\n",
              "      <td>114</td>\n",
              "      <td>41.38</td>\n",
              "      <td>121.2</td>\n",
              "      <td>110</td>\n",
              "      <td>10.30</td>\n",
              "      <td>162.6</td>\n",
              "      <td>104</td>\n",
              "      <td>7.32</td>\n",
              "      <td>12.2</td>\n",
              "      <td>5</td>\n",
              "      <td>3.29</td>\n",
              "      <td>0</td>\n",
              "      <td>no</td>\n",
              "    </tr>\n",
              "    <tr>\n",
              "      <th>2</th>\n",
              "      <td>OH</td>\n",
              "      <td>84</td>\n",
              "      <td>area_code_408</td>\n",
              "      <td>yes</td>\n",
              "      <td>no</td>\n",
              "      <td>0</td>\n",
              "      <td>299.4</td>\n",
              "      <td>71</td>\n",
              "      <td>50.90</td>\n",
              "      <td>61.9</td>\n",
              "      <td>88</td>\n",
              "      <td>5.26</td>\n",
              "      <td>196.9</td>\n",
              "      <td>89</td>\n",
              "      <td>8.86</td>\n",
              "      <td>6.6</td>\n",
              "      <td>7</td>\n",
              "      <td>1.78</td>\n",
              "      <td>2</td>\n",
              "      <td>no</td>\n",
              "    </tr>\n",
              "    <tr>\n",
              "      <th>3</th>\n",
              "      <td>OK</td>\n",
              "      <td>75</td>\n",
              "      <td>area_code_415</td>\n",
              "      <td>yes</td>\n",
              "      <td>no</td>\n",
              "      <td>0</td>\n",
              "      <td>166.7</td>\n",
              "      <td>113</td>\n",
              "      <td>28.34</td>\n",
              "      <td>148.3</td>\n",
              "      <td>122</td>\n",
              "      <td>12.61</td>\n",
              "      <td>186.9</td>\n",
              "      <td>121</td>\n",
              "      <td>8.41</td>\n",
              "      <td>10.1</td>\n",
              "      <td>3</td>\n",
              "      <td>2.73</td>\n",
              "      <td>3</td>\n",
              "      <td>no</td>\n",
              "    </tr>\n",
              "    <tr>\n",
              "      <th>4</th>\n",
              "      <td>MA</td>\n",
              "      <td>121</td>\n",
              "      <td>area_code_510</td>\n",
              "      <td>no</td>\n",
              "      <td>yes</td>\n",
              "      <td>24</td>\n",
              "      <td>218.2</td>\n",
              "      <td>88</td>\n",
              "      <td>37.09</td>\n",
              "      <td>348.5</td>\n",
              "      <td>108</td>\n",
              "      <td>29.62</td>\n",
              "      <td>212.6</td>\n",
              "      <td>118</td>\n",
              "      <td>9.57</td>\n",
              "      <td>7.5</td>\n",
              "      <td>7</td>\n",
              "      <td>2.03</td>\n",
              "      <td>3</td>\n",
              "      <td>no</td>\n",
              "    </tr>\n",
              "  </tbody>\n",
              "</table>\n",
              "</div>"
            ],
            "text/plain": [
              "  state  account_length      area_code international_plan voice_mail_plan   \n",
              "0    OH             107  area_code_415                 no             yes  \\\n",
              "1    NJ             137  area_code_415                 no              no   \n",
              "2    OH              84  area_code_408                yes              no   \n",
              "3    OK              75  area_code_415                yes              no   \n",
              "4    MA             121  area_code_510                 no             yes   \n",
              "\n",
              "   number_vmail_messages  total_day_minutes  total_day_calls   \n",
              "0                     26              161.6              123  \\\n",
              "1                      0              243.4              114   \n",
              "2                      0              299.4               71   \n",
              "3                      0              166.7              113   \n",
              "4                     24              218.2               88   \n",
              "\n",
              "   total_day_charge  total_eve_minutes  total_eve_calls  total_eve_charge   \n",
              "0             27.47              195.5              103             16.62  \\\n",
              "1             41.38              121.2              110             10.30   \n",
              "2             50.90               61.9               88              5.26   \n",
              "3             28.34              148.3              122             12.61   \n",
              "4             37.09              348.5              108             29.62   \n",
              "\n",
              "   total_night_minutes  total_night_calls  total_night_charge   \n",
              "0                254.4                103               11.45  \\\n",
              "1                162.6                104                7.32   \n",
              "2                196.9                 89                8.86   \n",
              "3                186.9                121                8.41   \n",
              "4                212.6                118                9.57   \n",
              "\n",
              "   total_intl_minutes  total_intl_calls  total_intl_charge   \n",
              "0                13.7                 3               3.70  \\\n",
              "1                12.2                 5               3.29   \n",
              "2                 6.6                 7               1.78   \n",
              "3                10.1                 3               2.73   \n",
              "4                 7.5                 7               2.03   \n",
              "\n",
              "   number_customer_service_calls churn  \n",
              "0                              1    no  \n",
              "1                              0    no  \n",
              "2                              2    no  \n",
              "3                              3    no  \n",
              "4                              3    no  "
            ]
          },
          "execution_count": 2,
          "metadata": {},
          "output_type": "execute_result"
        }
      ],
      "source": [
        "# Read train data\n",
        "dt_train = pd.read_csv('Data Train (C2).csv')\n",
        "dt_train.head()"
      ]
    },
    {
      "cell_type": "code",
      "execution_count": 3,
      "metadata": {
        "colab": {
          "base_uri": "https://localhost:8080/",
          "height": 226
        },
        "id": "NrL_GKrtI6w2",
        "outputId": "1a9c69cf-e86c-4bb7-a732-2addba4278cd"
      },
      "outputs": [
        {
          "data": {
            "text/html": [
              "<div>\n",
              "<style scoped>\n",
              "    .dataframe tbody tr th:only-of-type {\n",
              "        vertical-align: middle;\n",
              "    }\n",
              "\n",
              "    .dataframe tbody tr th {\n",
              "        vertical-align: top;\n",
              "    }\n",
              "\n",
              "    .dataframe thead th {\n",
              "        text-align: right;\n",
              "    }\n",
              "</style>\n",
              "<table border=\"1\" class=\"dataframe\">\n",
              "  <thead>\n",
              "    <tr style=\"text-align: right;\">\n",
              "      <th></th>\n",
              "      <th>id</th>\n",
              "      <th>state</th>\n",
              "      <th>account_length</th>\n",
              "      <th>area_code</th>\n",
              "      <th>international_plan</th>\n",
              "      <th>voice_mail_plan</th>\n",
              "      <th>number_vmail_messages</th>\n",
              "      <th>total_day_minutes</th>\n",
              "      <th>total_day_calls</th>\n",
              "      <th>total_day_charge</th>\n",
              "      <th>total_eve_minutes</th>\n",
              "      <th>total_eve_calls</th>\n",
              "      <th>total_eve_charge</th>\n",
              "      <th>total_night_minutes</th>\n",
              "      <th>total_night_calls</th>\n",
              "      <th>total_night_charge</th>\n",
              "      <th>total_intl_minutes</th>\n",
              "      <th>total_intl_calls</th>\n",
              "      <th>total_intl_charge</th>\n",
              "      <th>number_customer_service_calls</th>\n",
              "    </tr>\n",
              "  </thead>\n",
              "  <tbody>\n",
              "    <tr>\n",
              "      <th>0</th>\n",
              "      <td>1</td>\n",
              "      <td>KS</td>\n",
              "      <td>128</td>\n",
              "      <td>area_code_415</td>\n",
              "      <td>no</td>\n",
              "      <td>yes</td>\n",
              "      <td>25</td>\n",
              "      <td>265.1</td>\n",
              "      <td>110</td>\n",
              "      <td>45.07</td>\n",
              "      <td>197.4</td>\n",
              "      <td>99</td>\n",
              "      <td>16.78</td>\n",
              "      <td>244.7</td>\n",
              "      <td>91</td>\n",
              "      <td>11.01</td>\n",
              "      <td>10.0</td>\n",
              "      <td>3</td>\n",
              "      <td>2.70</td>\n",
              "      <td>1</td>\n",
              "    </tr>\n",
              "    <tr>\n",
              "      <th>1</th>\n",
              "      <td>2</td>\n",
              "      <td>AL</td>\n",
              "      <td>118</td>\n",
              "      <td>area_code_510</td>\n",
              "      <td>yes</td>\n",
              "      <td>no</td>\n",
              "      <td>0</td>\n",
              "      <td>223.4</td>\n",
              "      <td>98</td>\n",
              "      <td>37.98</td>\n",
              "      <td>220.6</td>\n",
              "      <td>101</td>\n",
              "      <td>18.75</td>\n",
              "      <td>203.9</td>\n",
              "      <td>118</td>\n",
              "      <td>9.18</td>\n",
              "      <td>6.3</td>\n",
              "      <td>6</td>\n",
              "      <td>1.70</td>\n",
              "      <td>0</td>\n",
              "    </tr>\n",
              "    <tr>\n",
              "      <th>2</th>\n",
              "      <td>3</td>\n",
              "      <td>IA</td>\n",
              "      <td>62</td>\n",
              "      <td>area_code_415</td>\n",
              "      <td>no</td>\n",
              "      <td>no</td>\n",
              "      <td>0</td>\n",
              "      <td>120.7</td>\n",
              "      <td>70</td>\n",
              "      <td>20.52</td>\n",
              "      <td>307.2</td>\n",
              "      <td>76</td>\n",
              "      <td>26.11</td>\n",
              "      <td>203.0</td>\n",
              "      <td>99</td>\n",
              "      <td>9.14</td>\n",
              "      <td>13.1</td>\n",
              "      <td>6</td>\n",
              "      <td>3.54</td>\n",
              "      <td>4</td>\n",
              "    </tr>\n",
              "    <tr>\n",
              "      <th>3</th>\n",
              "      <td>4</td>\n",
              "      <td>VT</td>\n",
              "      <td>93</td>\n",
              "      <td>area_code_510</td>\n",
              "      <td>no</td>\n",
              "      <td>no</td>\n",
              "      <td>0</td>\n",
              "      <td>190.7</td>\n",
              "      <td>114</td>\n",
              "      <td>32.42</td>\n",
              "      <td>218.2</td>\n",
              "      <td>111</td>\n",
              "      <td>18.55</td>\n",
              "      <td>129.6</td>\n",
              "      <td>121</td>\n",
              "      <td>5.83</td>\n",
              "      <td>8.1</td>\n",
              "      <td>3</td>\n",
              "      <td>2.19</td>\n",
              "      <td>3</td>\n",
              "    </tr>\n",
              "    <tr>\n",
              "      <th>4</th>\n",
              "      <td>5</td>\n",
              "      <td>NE</td>\n",
              "      <td>174</td>\n",
              "      <td>area_code_415</td>\n",
              "      <td>no</td>\n",
              "      <td>no</td>\n",
              "      <td>0</td>\n",
              "      <td>124.3</td>\n",
              "      <td>76</td>\n",
              "      <td>21.13</td>\n",
              "      <td>277.1</td>\n",
              "      <td>112</td>\n",
              "      <td>23.55</td>\n",
              "      <td>250.7</td>\n",
              "      <td>115</td>\n",
              "      <td>11.28</td>\n",
              "      <td>15.5</td>\n",
              "      <td>5</td>\n",
              "      <td>4.19</td>\n",
              "      <td>3</td>\n",
              "    </tr>\n",
              "  </tbody>\n",
              "</table>\n",
              "</div>"
            ],
            "text/plain": [
              "   id state  account_length      area_code international_plan voice_mail_plan   \n",
              "0   1    KS             128  area_code_415                 no             yes  \\\n",
              "1   2    AL             118  area_code_510                yes              no   \n",
              "2   3    IA              62  area_code_415                 no              no   \n",
              "3   4    VT              93  area_code_510                 no              no   \n",
              "4   5    NE             174  area_code_415                 no              no   \n",
              "\n",
              "   number_vmail_messages  total_day_minutes  total_day_calls   \n",
              "0                     25              265.1              110  \\\n",
              "1                      0              223.4               98   \n",
              "2                      0              120.7               70   \n",
              "3                      0              190.7              114   \n",
              "4                      0              124.3               76   \n",
              "\n",
              "   total_day_charge  total_eve_minutes  total_eve_calls  total_eve_charge   \n",
              "0             45.07              197.4               99             16.78  \\\n",
              "1             37.98              220.6              101             18.75   \n",
              "2             20.52              307.2               76             26.11   \n",
              "3             32.42              218.2              111             18.55   \n",
              "4             21.13              277.1              112             23.55   \n",
              "\n",
              "   total_night_minutes  total_night_calls  total_night_charge   \n",
              "0                244.7                 91               11.01  \\\n",
              "1                203.9                118                9.18   \n",
              "2                203.0                 99                9.14   \n",
              "3                129.6                121                5.83   \n",
              "4                250.7                115               11.28   \n",
              "\n",
              "   total_intl_minutes  total_intl_calls  total_intl_charge   \n",
              "0                10.0                 3               2.70  \\\n",
              "1                 6.3                 6               1.70   \n",
              "2                13.1                 6               3.54   \n",
              "3                 8.1                 3               2.19   \n",
              "4                15.5                 5               4.19   \n",
              "\n",
              "   number_customer_service_calls  \n",
              "0                              1  \n",
              "1                              0  \n",
              "2                              4  \n",
              "3                              3  \n",
              "4                              3  "
            ]
          },
          "execution_count": 3,
          "metadata": {},
          "output_type": "execute_result"
        }
      ],
      "source": [
        "# Read test data\n",
        "dt_test = pd.read_csv('Data Test (C2).csv')\n",
        "dt_test.head()"
      ]
    },
    {
      "cell_type": "markdown",
      "metadata": {},
      "source": [
        "## **Feature Encoding**"
      ]
    },
    {
      "cell_type": "code",
      "execution_count": 4,
      "metadata": {},
      "outputs": [],
      "source": [
        "def label_enc(data, col):\n",
        "  from sklearn import preprocessing\n",
        "  le = preprocessing.LabelEncoder()\n",
        "  le.fit(data[col])\n",
        "  data[col] = le.transform(data[col])\n",
        "  return data[col]"
      ]
    },
    {
      "cell_type": "code",
      "execution_count": 5,
      "metadata": {},
      "outputs": [],
      "source": [
        "dt_train['state'] = label_enc(dt_train, 'state')\n",
        "dt_train['area_code'] = label_enc(dt_train, 'area_code')\n",
        "dt_train['international_plan'] = label_enc(dt_train, 'international_plan')\n",
        "dt_train['voice_mail_plan'] = label_enc(dt_train, 'voice_mail_plan')\n",
        "dt_train['churn'] = label_enc(dt_train, 'churn')"
      ]
    },
    {
      "cell_type": "code",
      "execution_count": 6,
      "metadata": {},
      "outputs": [
        {
          "data": {
            "text/html": [
              "<div>\n",
              "<style scoped>\n",
              "    .dataframe tbody tr th:only-of-type {\n",
              "        vertical-align: middle;\n",
              "    }\n",
              "\n",
              "    .dataframe tbody tr th {\n",
              "        vertical-align: top;\n",
              "    }\n",
              "\n",
              "    .dataframe thead th {\n",
              "        text-align: right;\n",
              "    }\n",
              "</style>\n",
              "<table border=\"1\" class=\"dataframe\">\n",
              "  <thead>\n",
              "    <tr style=\"text-align: right;\">\n",
              "      <th></th>\n",
              "      <th>state</th>\n",
              "      <th>account_length</th>\n",
              "      <th>area_code</th>\n",
              "      <th>international_plan</th>\n",
              "      <th>voice_mail_plan</th>\n",
              "      <th>number_vmail_messages</th>\n",
              "      <th>total_day_minutes</th>\n",
              "      <th>total_day_calls</th>\n",
              "      <th>total_day_charge</th>\n",
              "      <th>total_eve_minutes</th>\n",
              "      <th>total_eve_calls</th>\n",
              "      <th>total_eve_charge</th>\n",
              "      <th>total_night_minutes</th>\n",
              "      <th>total_night_calls</th>\n",
              "      <th>total_night_charge</th>\n",
              "      <th>total_intl_minutes</th>\n",
              "      <th>total_intl_calls</th>\n",
              "      <th>total_intl_charge</th>\n",
              "      <th>number_customer_service_calls</th>\n",
              "      <th>churn</th>\n",
              "    </tr>\n",
              "  </thead>\n",
              "  <tbody>\n",
              "    <tr>\n",
              "      <th>0</th>\n",
              "      <td>35</td>\n",
              "      <td>107</td>\n",
              "      <td>1</td>\n",
              "      <td>0</td>\n",
              "      <td>1</td>\n",
              "      <td>26</td>\n",
              "      <td>161.6</td>\n",
              "      <td>123</td>\n",
              "      <td>27.47</td>\n",
              "      <td>195.5</td>\n",
              "      <td>103</td>\n",
              "      <td>16.62</td>\n",
              "      <td>254.4</td>\n",
              "      <td>103</td>\n",
              "      <td>11.45</td>\n",
              "      <td>13.7</td>\n",
              "      <td>3</td>\n",
              "      <td>3.70</td>\n",
              "      <td>1</td>\n",
              "      <td>0</td>\n",
              "    </tr>\n",
              "    <tr>\n",
              "      <th>1</th>\n",
              "      <td>31</td>\n",
              "      <td>137</td>\n",
              "      <td>1</td>\n",
              "      <td>0</td>\n",
              "      <td>0</td>\n",
              "      <td>0</td>\n",
              "      <td>243.4</td>\n",
              "      <td>114</td>\n",
              "      <td>41.38</td>\n",
              "      <td>121.2</td>\n",
              "      <td>110</td>\n",
              "      <td>10.30</td>\n",
              "      <td>162.6</td>\n",
              "      <td>104</td>\n",
              "      <td>7.32</td>\n",
              "      <td>12.2</td>\n",
              "      <td>5</td>\n",
              "      <td>3.29</td>\n",
              "      <td>0</td>\n",
              "      <td>0</td>\n",
              "    </tr>\n",
              "    <tr>\n",
              "      <th>2</th>\n",
              "      <td>35</td>\n",
              "      <td>84</td>\n",
              "      <td>0</td>\n",
              "      <td>1</td>\n",
              "      <td>0</td>\n",
              "      <td>0</td>\n",
              "      <td>299.4</td>\n",
              "      <td>71</td>\n",
              "      <td>50.90</td>\n",
              "      <td>61.9</td>\n",
              "      <td>88</td>\n",
              "      <td>5.26</td>\n",
              "      <td>196.9</td>\n",
              "      <td>89</td>\n",
              "      <td>8.86</td>\n",
              "      <td>6.6</td>\n",
              "      <td>7</td>\n",
              "      <td>1.78</td>\n",
              "      <td>2</td>\n",
              "      <td>0</td>\n",
              "    </tr>\n",
              "    <tr>\n",
              "      <th>3</th>\n",
              "      <td>36</td>\n",
              "      <td>75</td>\n",
              "      <td>1</td>\n",
              "      <td>1</td>\n",
              "      <td>0</td>\n",
              "      <td>0</td>\n",
              "      <td>166.7</td>\n",
              "      <td>113</td>\n",
              "      <td>28.34</td>\n",
              "      <td>148.3</td>\n",
              "      <td>122</td>\n",
              "      <td>12.61</td>\n",
              "      <td>186.9</td>\n",
              "      <td>121</td>\n",
              "      <td>8.41</td>\n",
              "      <td>10.1</td>\n",
              "      <td>3</td>\n",
              "      <td>2.73</td>\n",
              "      <td>3</td>\n",
              "      <td>0</td>\n",
              "    </tr>\n",
              "    <tr>\n",
              "      <th>4</th>\n",
              "      <td>19</td>\n",
              "      <td>121</td>\n",
              "      <td>2</td>\n",
              "      <td>0</td>\n",
              "      <td>1</td>\n",
              "      <td>24</td>\n",
              "      <td>218.2</td>\n",
              "      <td>88</td>\n",
              "      <td>37.09</td>\n",
              "      <td>348.5</td>\n",
              "      <td>108</td>\n",
              "      <td>29.62</td>\n",
              "      <td>212.6</td>\n",
              "      <td>118</td>\n",
              "      <td>9.57</td>\n",
              "      <td>7.5</td>\n",
              "      <td>7</td>\n",
              "      <td>2.03</td>\n",
              "      <td>3</td>\n",
              "      <td>0</td>\n",
              "    </tr>\n",
              "  </tbody>\n",
              "</table>\n",
              "</div>"
            ],
            "text/plain": [
              "   state  account_length  area_code  international_plan  voice_mail_plan   \n",
              "0     35             107          1                   0                1  \\\n",
              "1     31             137          1                   0                0   \n",
              "2     35              84          0                   1                0   \n",
              "3     36              75          1                   1                0   \n",
              "4     19             121          2                   0                1   \n",
              "\n",
              "   number_vmail_messages  total_day_minutes  total_day_calls   \n",
              "0                     26              161.6              123  \\\n",
              "1                      0              243.4              114   \n",
              "2                      0              299.4               71   \n",
              "3                      0              166.7              113   \n",
              "4                     24              218.2               88   \n",
              "\n",
              "   total_day_charge  total_eve_minutes  total_eve_calls  total_eve_charge   \n",
              "0             27.47              195.5              103             16.62  \\\n",
              "1             41.38              121.2              110             10.30   \n",
              "2             50.90               61.9               88              5.26   \n",
              "3             28.34              148.3              122             12.61   \n",
              "4             37.09              348.5              108             29.62   \n",
              "\n",
              "   total_night_minutes  total_night_calls  total_night_charge   \n",
              "0                254.4                103               11.45  \\\n",
              "1                162.6                104                7.32   \n",
              "2                196.9                 89                8.86   \n",
              "3                186.9                121                8.41   \n",
              "4                212.6                118                9.57   \n",
              "\n",
              "   total_intl_minutes  total_intl_calls  total_intl_charge   \n",
              "0                13.7                 3               3.70  \\\n",
              "1                12.2                 5               3.29   \n",
              "2                 6.6                 7               1.78   \n",
              "3                10.1                 3               2.73   \n",
              "4                 7.5                 7               2.03   \n",
              "\n",
              "   number_customer_service_calls  churn  \n",
              "0                              1      0  \n",
              "1                              0      0  \n",
              "2                              2      0  \n",
              "3                              3      0  \n",
              "4                              3      0  "
            ]
          },
          "execution_count": 6,
          "metadata": {},
          "output_type": "execute_result"
        }
      ],
      "source": [
        "dt_train.head()"
      ]
    },
    {
      "cell_type": "markdown",
      "metadata": {
        "id": "ldYl0ZX4pDh-"
      },
      "source": [
        "## **Define Train-Test Data and Target Variable**"
      ]
    },
    {
      "cell_type": "code",
      "execution_count": 7,
      "metadata": {
        "id": "L9V30CvZo7F5"
      },
      "outputs": [],
      "source": [
        "X = dt_train.drop(\"churn\", axis=1)\n",
        "y = dt_train[\"churn\"]"
      ]
    },
    {
      "cell_type": "code",
      "execution_count": 8,
      "metadata": {},
      "outputs": [
        {
          "data": {
            "text/html": [
              "<div>\n",
              "<style scoped>\n",
              "    .dataframe tbody tr th:only-of-type {\n",
              "        vertical-align: middle;\n",
              "    }\n",
              "\n",
              "    .dataframe tbody tr th {\n",
              "        vertical-align: top;\n",
              "    }\n",
              "\n",
              "    .dataframe thead th {\n",
              "        text-align: right;\n",
              "    }\n",
              "</style>\n",
              "<table border=\"1\" class=\"dataframe\">\n",
              "  <thead>\n",
              "    <tr style=\"text-align: right;\">\n",
              "      <th></th>\n",
              "      <th>state</th>\n",
              "      <th>account_length</th>\n",
              "      <th>area_code</th>\n",
              "      <th>international_plan</th>\n",
              "      <th>voice_mail_plan</th>\n",
              "      <th>number_vmail_messages</th>\n",
              "      <th>total_day_minutes</th>\n",
              "      <th>total_day_calls</th>\n",
              "      <th>total_day_charge</th>\n",
              "      <th>total_eve_minutes</th>\n",
              "      <th>total_eve_calls</th>\n",
              "      <th>total_eve_charge</th>\n",
              "      <th>total_night_minutes</th>\n",
              "      <th>total_night_calls</th>\n",
              "      <th>total_night_charge</th>\n",
              "      <th>total_intl_minutes</th>\n",
              "      <th>total_intl_calls</th>\n",
              "      <th>total_intl_charge</th>\n",
              "      <th>number_customer_service_calls</th>\n",
              "    </tr>\n",
              "  </thead>\n",
              "  <tbody>\n",
              "    <tr>\n",
              "      <th>0</th>\n",
              "      <td>35</td>\n",
              "      <td>107</td>\n",
              "      <td>1</td>\n",
              "      <td>0</td>\n",
              "      <td>1</td>\n",
              "      <td>26</td>\n",
              "      <td>161.6</td>\n",
              "      <td>123</td>\n",
              "      <td>27.47</td>\n",
              "      <td>195.5</td>\n",
              "      <td>103</td>\n",
              "      <td>16.62</td>\n",
              "      <td>254.4</td>\n",
              "      <td>103</td>\n",
              "      <td>11.45</td>\n",
              "      <td>13.7</td>\n",
              "      <td>3</td>\n",
              "      <td>3.70</td>\n",
              "      <td>1</td>\n",
              "    </tr>\n",
              "    <tr>\n",
              "      <th>1</th>\n",
              "      <td>31</td>\n",
              "      <td>137</td>\n",
              "      <td>1</td>\n",
              "      <td>0</td>\n",
              "      <td>0</td>\n",
              "      <td>0</td>\n",
              "      <td>243.4</td>\n",
              "      <td>114</td>\n",
              "      <td>41.38</td>\n",
              "      <td>121.2</td>\n",
              "      <td>110</td>\n",
              "      <td>10.30</td>\n",
              "      <td>162.6</td>\n",
              "      <td>104</td>\n",
              "      <td>7.32</td>\n",
              "      <td>12.2</td>\n",
              "      <td>5</td>\n",
              "      <td>3.29</td>\n",
              "      <td>0</td>\n",
              "    </tr>\n",
              "    <tr>\n",
              "      <th>2</th>\n",
              "      <td>35</td>\n",
              "      <td>84</td>\n",
              "      <td>0</td>\n",
              "      <td>1</td>\n",
              "      <td>0</td>\n",
              "      <td>0</td>\n",
              "      <td>299.4</td>\n",
              "      <td>71</td>\n",
              "      <td>50.90</td>\n",
              "      <td>61.9</td>\n",
              "      <td>88</td>\n",
              "      <td>5.26</td>\n",
              "      <td>196.9</td>\n",
              "      <td>89</td>\n",
              "      <td>8.86</td>\n",
              "      <td>6.6</td>\n",
              "      <td>7</td>\n",
              "      <td>1.78</td>\n",
              "      <td>2</td>\n",
              "    </tr>\n",
              "    <tr>\n",
              "      <th>3</th>\n",
              "      <td>36</td>\n",
              "      <td>75</td>\n",
              "      <td>1</td>\n",
              "      <td>1</td>\n",
              "      <td>0</td>\n",
              "      <td>0</td>\n",
              "      <td>166.7</td>\n",
              "      <td>113</td>\n",
              "      <td>28.34</td>\n",
              "      <td>148.3</td>\n",
              "      <td>122</td>\n",
              "      <td>12.61</td>\n",
              "      <td>186.9</td>\n",
              "      <td>121</td>\n",
              "      <td>8.41</td>\n",
              "      <td>10.1</td>\n",
              "      <td>3</td>\n",
              "      <td>2.73</td>\n",
              "      <td>3</td>\n",
              "    </tr>\n",
              "    <tr>\n",
              "      <th>4</th>\n",
              "      <td>19</td>\n",
              "      <td>121</td>\n",
              "      <td>2</td>\n",
              "      <td>0</td>\n",
              "      <td>1</td>\n",
              "      <td>24</td>\n",
              "      <td>218.2</td>\n",
              "      <td>88</td>\n",
              "      <td>37.09</td>\n",
              "      <td>348.5</td>\n",
              "      <td>108</td>\n",
              "      <td>29.62</td>\n",
              "      <td>212.6</td>\n",
              "      <td>118</td>\n",
              "      <td>9.57</td>\n",
              "      <td>7.5</td>\n",
              "      <td>7</td>\n",
              "      <td>2.03</td>\n",
              "      <td>3</td>\n",
              "    </tr>\n",
              "    <tr>\n",
              "      <th>...</th>\n",
              "      <td>...</td>\n",
              "      <td>...</td>\n",
              "      <td>...</td>\n",
              "      <td>...</td>\n",
              "      <td>...</td>\n",
              "      <td>...</td>\n",
              "      <td>...</td>\n",
              "      <td>...</td>\n",
              "      <td>...</td>\n",
              "      <td>...</td>\n",
              "      <td>...</td>\n",
              "      <td>...</td>\n",
              "      <td>...</td>\n",
              "      <td>...</td>\n",
              "      <td>...</td>\n",
              "      <td>...</td>\n",
              "      <td>...</td>\n",
              "      <td>...</td>\n",
              "      <td>...</td>\n",
              "    </tr>\n",
              "    <tr>\n",
              "      <th>4245</th>\n",
              "      <td>26</td>\n",
              "      <td>83</td>\n",
              "      <td>1</td>\n",
              "      <td>0</td>\n",
              "      <td>0</td>\n",
              "      <td>0</td>\n",
              "      <td>188.3</td>\n",
              "      <td>70</td>\n",
              "      <td>32.01</td>\n",
              "      <td>243.8</td>\n",
              "      <td>88</td>\n",
              "      <td>20.72</td>\n",
              "      <td>213.7</td>\n",
              "      <td>79</td>\n",
              "      <td>9.62</td>\n",
              "      <td>10.3</td>\n",
              "      <td>6</td>\n",
              "      <td>2.78</td>\n",
              "      <td>0</td>\n",
              "    </tr>\n",
              "    <tr>\n",
              "      <th>4246</th>\n",
              "      <td>49</td>\n",
              "      <td>73</td>\n",
              "      <td>0</td>\n",
              "      <td>0</td>\n",
              "      <td>0</td>\n",
              "      <td>0</td>\n",
              "      <td>177.9</td>\n",
              "      <td>89</td>\n",
              "      <td>30.24</td>\n",
              "      <td>131.2</td>\n",
              "      <td>82</td>\n",
              "      <td>11.15</td>\n",
              "      <td>186.2</td>\n",
              "      <td>89</td>\n",
              "      <td>8.38</td>\n",
              "      <td>11.5</td>\n",
              "      <td>6</td>\n",
              "      <td>3.11</td>\n",
              "      <td>3</td>\n",
              "    </tr>\n",
              "    <tr>\n",
              "      <th>4247</th>\n",
              "      <td>27</td>\n",
              "      <td>75</td>\n",
              "      <td>0</td>\n",
              "      <td>0</td>\n",
              "      <td>0</td>\n",
              "      <td>0</td>\n",
              "      <td>170.7</td>\n",
              "      <td>101</td>\n",
              "      <td>29.02</td>\n",
              "      <td>193.1</td>\n",
              "      <td>126</td>\n",
              "      <td>16.41</td>\n",
              "      <td>129.1</td>\n",
              "      <td>104</td>\n",
              "      <td>5.81</td>\n",
              "      <td>6.9</td>\n",
              "      <td>7</td>\n",
              "      <td>1.86</td>\n",
              "      <td>1</td>\n",
              "    </tr>\n",
              "    <tr>\n",
              "      <th>4248</th>\n",
              "      <td>11</td>\n",
              "      <td>50</td>\n",
              "      <td>0</td>\n",
              "      <td>0</td>\n",
              "      <td>1</td>\n",
              "      <td>40</td>\n",
              "      <td>235.7</td>\n",
              "      <td>127</td>\n",
              "      <td>40.07</td>\n",
              "      <td>223.0</td>\n",
              "      <td>126</td>\n",
              "      <td>18.96</td>\n",
              "      <td>297.5</td>\n",
              "      <td>116</td>\n",
              "      <td>13.39</td>\n",
              "      <td>9.9</td>\n",
              "      <td>5</td>\n",
              "      <td>2.67</td>\n",
              "      <td>2</td>\n",
              "    </tr>\n",
              "    <tr>\n",
              "      <th>4249</th>\n",
              "      <td>46</td>\n",
              "      <td>86</td>\n",
              "      <td>1</td>\n",
              "      <td>0</td>\n",
              "      <td>1</td>\n",
              "      <td>34</td>\n",
              "      <td>129.4</td>\n",
              "      <td>102</td>\n",
              "      <td>22.00</td>\n",
              "      <td>267.1</td>\n",
              "      <td>104</td>\n",
              "      <td>22.70</td>\n",
              "      <td>154.8</td>\n",
              "      <td>100</td>\n",
              "      <td>6.97</td>\n",
              "      <td>9.3</td>\n",
              "      <td>16</td>\n",
              "      <td>2.51</td>\n",
              "      <td>0</td>\n",
              "    </tr>\n",
              "  </tbody>\n",
              "</table>\n",
              "<p>4250 rows × 19 columns</p>\n",
              "</div>"
            ],
            "text/plain": [
              "      state  account_length  area_code  international_plan  voice_mail_plan   \n",
              "0        35             107          1                   0                1  \\\n",
              "1        31             137          1                   0                0   \n",
              "2        35              84          0                   1                0   \n",
              "3        36              75          1                   1                0   \n",
              "4        19             121          2                   0                1   \n",
              "...     ...             ...        ...                 ...              ...   \n",
              "4245     26              83          1                   0                0   \n",
              "4246     49              73          0                   0                0   \n",
              "4247     27              75          0                   0                0   \n",
              "4248     11              50          0                   0                1   \n",
              "4249     46              86          1                   0                1   \n",
              "\n",
              "      number_vmail_messages  total_day_minutes  total_day_calls   \n",
              "0                        26              161.6              123  \\\n",
              "1                         0              243.4              114   \n",
              "2                         0              299.4               71   \n",
              "3                         0              166.7              113   \n",
              "4                        24              218.2               88   \n",
              "...                     ...                ...              ...   \n",
              "4245                      0              188.3               70   \n",
              "4246                      0              177.9               89   \n",
              "4247                      0              170.7              101   \n",
              "4248                     40              235.7              127   \n",
              "4249                     34              129.4              102   \n",
              "\n",
              "      total_day_charge  total_eve_minutes  total_eve_calls  total_eve_charge   \n",
              "0                27.47              195.5              103             16.62  \\\n",
              "1                41.38              121.2              110             10.30   \n",
              "2                50.90               61.9               88              5.26   \n",
              "3                28.34              148.3              122             12.61   \n",
              "4                37.09              348.5              108             29.62   \n",
              "...                ...                ...              ...               ...   \n",
              "4245             32.01              243.8               88             20.72   \n",
              "4246             30.24              131.2               82             11.15   \n",
              "4247             29.02              193.1              126             16.41   \n",
              "4248             40.07              223.0              126             18.96   \n",
              "4249             22.00              267.1              104             22.70   \n",
              "\n",
              "      total_night_minutes  total_night_calls  total_night_charge   \n",
              "0                   254.4                103               11.45  \\\n",
              "1                   162.6                104                7.32   \n",
              "2                   196.9                 89                8.86   \n",
              "3                   186.9                121                8.41   \n",
              "4                   212.6                118                9.57   \n",
              "...                   ...                ...                 ...   \n",
              "4245                213.7                 79                9.62   \n",
              "4246                186.2                 89                8.38   \n",
              "4247                129.1                104                5.81   \n",
              "4248                297.5                116               13.39   \n",
              "4249                154.8                100                6.97   \n",
              "\n",
              "      total_intl_minutes  total_intl_calls  total_intl_charge   \n",
              "0                   13.7                 3               3.70  \\\n",
              "1                   12.2                 5               3.29   \n",
              "2                    6.6                 7               1.78   \n",
              "3                   10.1                 3               2.73   \n",
              "4                    7.5                 7               2.03   \n",
              "...                  ...               ...                ...   \n",
              "4245                10.3                 6               2.78   \n",
              "4246                11.5                 6               3.11   \n",
              "4247                 6.9                 7               1.86   \n",
              "4248                 9.9                 5               2.67   \n",
              "4249                 9.3                16               2.51   \n",
              "\n",
              "      number_customer_service_calls  \n",
              "0                                 1  \n",
              "1                                 0  \n",
              "2                                 2  \n",
              "3                                 3  \n",
              "4                                 3  \n",
              "...                             ...  \n",
              "4245                              0  \n",
              "4246                              3  \n",
              "4247                              1  \n",
              "4248                              2  \n",
              "4249                              0  \n",
              "\n",
              "[4250 rows x 19 columns]"
            ]
          },
          "execution_count": 8,
          "metadata": {},
          "output_type": "execute_result"
        }
      ],
      "source": [
        "X"
      ]
    },
    {
      "cell_type": "code",
      "execution_count": 9,
      "metadata": {},
      "outputs": [
        {
          "data": {
            "text/plain": [
              "0       0\n",
              "1       0\n",
              "2       0\n",
              "3       0\n",
              "4       0\n",
              "       ..\n",
              "4245    0\n",
              "4246    0\n",
              "4247    0\n",
              "4248    0\n",
              "4249    0\n",
              "Name: churn, Length: 4250, dtype: int32"
            ]
          },
          "execution_count": 9,
          "metadata": {},
          "output_type": "execute_result"
        }
      ],
      "source": [
        "y"
      ]
    },
    {
      "cell_type": "markdown",
      "metadata": {},
      "source": [
        "### Train-Test Split"
      ]
    },
    {
      "cell_type": "code",
      "execution_count": 10,
      "metadata": {
        "id": "WlFCRY8xqvAQ"
      },
      "outputs": [],
      "source": [
        "X_train, X_test, y_train, y_test = train_test_split(X, y, test_size = 0.2, random_state = 64)"
      ]
    },
    {
      "cell_type": "markdown",
      "metadata": {},
      "source": [
        "## **Build Model**\n",
        "First, we will build the model using a Random Forest with the original (imbalanced) data. This is to observe what happens when we proceed without applying any resampling techniques."
      ]
    },
    {
      "cell_type": "markdown",
      "metadata": {
        "id": "NUIR12qR6Qcz"
      },
      "source": [
        "- Random Forest"
      ]
    },
    {
      "cell_type": "code",
      "execution_count": 11,
      "metadata": {
        "colab": {
          "base_uri": "https://localhost:8080/"
        },
        "id": "CKWgK2FFq9Yb",
        "outputId": "f7890725-d690-4775-fd9a-a638b6700576"
      },
      "outputs": [
        {
          "name": "stdout",
          "output_type": "stream",
          "text": [
            "Random Forest accuracy: 0.8635294117647059\n",
            "              precision    recall  f1-score   support\n",
            "\n",
            "           0       0.86      1.00      0.93       728\n",
            "           1       1.00      0.05      0.09       122\n",
            "\n",
            "    accuracy                           0.86       850\n",
            "   macro avg       0.93      0.52      0.51       850\n",
            "weighted avg       0.88      0.86      0.81       850\n",
            "\n"
          ]
        }
      ],
      "source": [
        "rfc_model = RandomForestClassifier(max_depth=2)\n",
        "rfc_model.fit(X_train, y_train)\n",
        "y_pred_rfc = rfc_model.predict(X_test)\n",
        "acc_rfc = rfc_model.score(X_test, y_test)\n",
        "print(\"Random Forest accuracy:\", acc_rfc)\n",
        "print(classification_report(y_test, y_pred_rfc, labels=[0,1]))"
      ]
    },
    {
      "cell_type": "markdown",
      "metadata": {},
      "source": [
        "The accuracy looks good, but when we examine the classification report, the precision, F1-scores, and recall between the two classes are very imbalance."
      ]
    },
    {
      "cell_type": "markdown",
      "metadata": {},
      "source": [
        "### Resampling using SMOTE\n",
        "We use an oversampling method to balance the data. SMOTE is one of the techniques that can generate synthetic examples of the minority class to help the model learn from a more balanced dataset."
      ]
    },
    {
      "cell_type": "code",
      "execution_count": 12,
      "metadata": {},
      "outputs": [
        {
          "data": {
            "text/plain": [
              "churn\n",
              "0    3652\n",
              "1    3652\n",
              "Name: count, dtype: int64"
            ]
          },
          "execution_count": 12,
          "metadata": {},
          "output_type": "execute_result"
        }
      ],
      "source": [
        "smote = SMOTE(sampling_strategy='minority') \n",
        "x_resampled, y_resampled = smote.fit_resample(X,y)\n",
        "y_resampled.value_counts()"
      ]
    },
    {
      "cell_type": "markdown",
      "metadata": {},
      "source": [
        "### Splitting Resample Data"
      ]
    },
    {
      "cell_type": "code",
      "execution_count": 13,
      "metadata": {},
      "outputs": [],
      "source": [
        "xr_train, xr_test, yr_train, yr_test = train_test_split(x_resampled, y_resampled, test_size=0.2)"
      ]
    },
    {
      "cell_type": "markdown",
      "metadata": {},
      "source": [
        "- Random forest (resampled)"
      ]
    },
    {
      "cell_type": "code",
      "execution_count": 15,
      "metadata": {},
      "outputs": [
        {
          "name": "stdout",
          "output_type": "stream",
          "text": [
            "Cross-validation scores: [0.92557742 0.93242087 0.93498717 0.93578767 0.92808219]\n",
            "Mean cross-validation score: 0.9314\n",
            "Random Forest accuracy on test set: 0.9446\n"
          ]
        }
      ],
      "source": [
        "rfc_model_r = RandomForestClassifier()\n",
        "rfc_model_r.fit(xr_train, yr_train)\n",
        "\n",
        "rfc_scores = cross_val_score(rfc_model_r, xr_train, yr_train, cv=5, scoring='accuracy')\n",
        "\n",
        "yr_pred_rfc = rfc_model_r.predict(xr_test)\n",
        "rfc_acc_r = rfc_model_r.score(xr_test, yr_test)\n",
        "\n",
        "print(f\"Cross-validation scores: {rfc_scores}\")\n",
        "print(f\"Mean cross-validation score: {rfc_scores.mean():.4f}\")\n",
        "print(f\"Random Forest accuracy on test set: {rfc_acc_r:.4f}\")"
      ]
    },
    {
      "cell_type": "code",
      "execution_count": 16,
      "metadata": {},
      "outputs": [
        {
          "name": "stdout",
          "output_type": "stream",
          "text": [
            "              precision    recall  f1-score   support\n",
            "\n",
            "           0       0.93      0.97      0.95       757\n",
            "           1       0.96      0.92      0.94       704\n",
            "\n",
            "    accuracy                           0.94      1461\n",
            "   macro avg       0.95      0.94      0.94      1461\n",
            "weighted avg       0.95      0.94      0.94      1461\n",
            "\n"
          ]
        }
      ],
      "source": [
        "print(classification_report(yr_test, yr_pred_rfc, labels=[0,1]))"
      ]
    },
    {
      "cell_type": "markdown",
      "metadata": {},
      "source": [
        "Based on the results, the Random Forest model demonstrates a strong fit to the training data, as indicated by a mean cross-validation score of 0.9262 across 5 folds. This suggests that the model generalizes well during training. When evaluated on the unseen test data, the model achieved an accuracy of 0.9357, which is slightly higher than the cross-validation mean, indicating that the model is not overfitting and performs consistently on new, unseen data."
      ]
    },
    {
      "cell_type": "markdown",
      "metadata": {},
      "source": [
        "- Decision Tree (resampled)"
      ]
    },
    {
      "cell_type": "code",
      "execution_count": 17,
      "metadata": {},
      "outputs": [
        {
          "name": "stdout",
          "output_type": "stream",
          "text": [
            "Cross-validation scores: [0.86911891 0.84944397 0.83404619 0.88356164 0.8484589 ]\n",
            "Mean cross-validation score: 0.8569\n",
            "Random Forest accuracy on test set: 0.8652\n"
          ]
        }
      ],
      "source": [
        "# Train\n",
        "dt_model_r = DecisionTreeClassifier()\n",
        "dt_model_r.fit(xr_train, yr_train)\n",
        "\n",
        "# Predict with threshold adjustment\n",
        "yr_pred_dt = dt_model_r.predict(xr_test)\n",
        "\n",
        "dt_scores = cross_val_score(dt_model_r, xr_train, yr_train, cv=5, scoring='accuracy')\n",
        "dt_acc_r = dt_model_r.score(xr_test, yr_test)\n",
        "\n",
        "# Evaluate\n",
        "print(f\"Cross-validation scores: {dt_scores}\")\n",
        "print(f\"Mean cross-validation score: {dt_scores.mean():.4f}\")\n",
        "print(f\"Random Forest accuracy on test set: {dt_acc_r:.4f}\")\n"
      ]
    },
    {
      "cell_type": "code",
      "execution_count": 18,
      "metadata": {},
      "outputs": [
        {
          "name": "stdout",
          "output_type": "stream",
          "text": [
            "              precision    recall  f1-score   support\n",
            "\n",
            "           0       0.89      0.85      0.87       757\n",
            "           1       0.84      0.88      0.86       704\n",
            "\n",
            "    accuracy                           0.87      1461\n",
            "   macro avg       0.87      0.87      0.87      1461\n",
            "weighted avg       0.87      0.87      0.87      1461\n",
            "\n"
          ]
        }
      ],
      "source": [
        "print(classification_report(yr_test, yr_pred_dt, labels=[0,1]))"
      ]
    },
    {
      "cell_type": "markdown",
      "metadata": {},
      "source": [
        "The Decision Tree model demonstrates reasonably good predictive performance, achieving a mean cross-validation score of 0.8639 across 5 folds. This indicates that the model has learned meaningful patterns from the training data while maintaining a decent generalization ability. When evaluated on the unseen test set, the model reached an accuracy of 0.8905, suggesting that it performs slightly better on new data and does not show signs of overfitting."
      ]
    },
    {
      "cell_type": "markdown",
      "metadata": {},
      "source": [
        "- Xgboost (resampled)"
      ]
    },
    {
      "cell_type": "code",
      "execution_count": 19,
      "metadata": {},
      "outputs": [
        {
          "name": "stdout",
          "output_type": "stream",
          "text": [
            "Cross-validation scores: [0.92643285 0.92301112 0.94011976 0.94178082 0.93664384]\n",
            "Mean cross-validation score: 0.9336\n",
            "Random Forest accuracy on test set: 0.9493\n",
            "              precision    recall  f1-score   support\n",
            "\n",
            "           0       0.94      0.96      0.95       757\n",
            "           1       0.96      0.94      0.95       704\n",
            "\n",
            "    accuracy                           0.95      1461\n",
            "   macro avg       0.95      0.95      0.95      1461\n",
            "weighted avg       0.95      0.95      0.95      1461\n",
            "\n"
          ]
        }
      ],
      "source": [
        "# XGBoost\n",
        "xgb_model_r = xgb.XGBClassifier()\n",
        "\n",
        "xgb_model_r.fit(xr_train, yr_train)\n",
        "yr_pred_xgb = xgb_model_r.predict(xr_test)\n",
        "\n",
        "xgb_scores = cross_val_score(xgb_model_r, xr_train, yr_train, cv=5, scoring='accuracy')\n",
        "xgb_acc_r = xgb_model_r.score(xr_test, yr_test)\n",
        "\n",
        "# Evaluate\n",
        "print(f\"Cross-validation scores: {xgb_scores}\")\n",
        "print(f\"Mean cross-validation score: {xgb_scores.mean():.4f}\")\n",
        "print(f\"Random Forest accuracy on test set: {xgb_acc_r:.4f}\")\n",
        "\n",
        "print(classification_report(yr_test, yr_pred_xgb))"
      ]
    },
    {
      "cell_type": "markdown",
      "metadata": {},
      "source": [
        "The Decision Tree model achieved a mean cross-validation score of 0.9298, indicating strong and consistent performance during training across multiple validation folds. When evaluated on the unseen test set, the model reached a higher accuracy of 0.9466, suggesting that it generalizes very well and is not overfitting. The close alignment between cross-validation and test accuracy demonstrates the model's robustness and reliability on new data."
      ]
    },
    {
      "cell_type": "markdown",
      "metadata": {
        "id": "a0jTtrJ0posl"
      },
      "source": [
        "## **Evaluation**"
      ]
    },
    {
      "cell_type": "markdown",
      "metadata": {
        "id": "cUlGqAUcrP6h"
      },
      "source": [
        "- Random Forest"
      ]
    },
    {
      "cell_type": "code",
      "execution_count": 20,
      "metadata": {
        "colab": {
          "base_uri": "https://localhost:8080/",
          "height": 315
        },
        "id": "IV_0tnIUp4iu",
        "outputId": "a8fcb5dd-f334-482b-ac6a-f51e4e9b15e6"
      },
      "outputs": [
        {
          "data": {
            "image/png": "[encoded data removed]",
            "text/plain": [
              "<Figure size 400x300 with 2 Axes>"
            ]
          },
          "metadata": {},
          "output_type": "display_data"
        }
      ],
      "source": [
        "plt.figure(figsize=(4,3))\n",
        "sns.heatmap(confusion_matrix(yr_test, yr_pred_rfc),\n",
        "                annot=True, fmt = \"d\", linecolor=\"k\", linewidths=3)\n",
        "\n",
        "plt.title(\"Random Forest Confusion Matrix\",fontsize=14)\n",
        "plt.show()"
      ]
    },
    {
      "cell_type": "markdown",
      "metadata": {},
      "source": [
        "The Random Forest model demonstrates excellent performance, correctly predicting 733 negative cases and 647 positive cases of churn. It makes only a small number of errors, with 30 false positives and 58 false negatives, indicating that the model is highly reliable and well-balanced for the classification task."
      ]
    },
    {
      "cell_type": "markdown",
      "metadata": {},
      "source": [
        "- Decision Tree"
      ]
    },
    {
      "cell_type": "code",
      "execution_count": 21,
      "metadata": {},
      "outputs": [
        {
          "data": {
            "image/png": "[encoded data removed]",
            "text/plain": [
              "<Figure size 400x300 with 2 Axes>"
            ]
          },
          "metadata": {},
          "output_type": "display_data"
        }
      ],
      "source": [
        "plt.figure(figsize=(4,3))\n",
        "sns.heatmap(confusion_matrix(yr_test, yr_pred_dt),\n",
        "                annot=True, fmt = \"d\", linecolor=\"k\", linewidths=3)\n",
        "\n",
        "plt.title(\"Decision Tree Confusion Matrix\",fontsize=14)\n",
        "plt.show()"
      ]
    },
    {
      "cell_type": "markdown",
      "metadata": {},
      "source": [
        "The Decision Tree model shows good performance, correctly predicting 641 negative cases and 623 positive cases. It achieves an accuracy of approximately 86.5%, with a precision of about 84.3% and a recall of 88.5%. The model makes 116 false positive errors and 81 false negative errors, suggesting reasonable performance, though slightly less balanced and slightly less accurate than the Random Forest model."
      ]
    },
    {
      "cell_type": "markdown",
      "metadata": {},
      "source": [
        "- XGBoost"
      ]
    },
    {
      "cell_type": "code",
      "execution_count": 22,
      "metadata": {},
      "outputs": [
        {
          "data": {
            "image/png": "[encoded data removed]",
            "text/plain": [
              "<Figure size 400x300 with 2 Axes>"
            ]
          },
          "metadata": {},
          "output_type": "display_data"
        }
      ],
      "source": [
        "plt.figure(figsize=(4,3))\n",
        "sns.heatmap(confusion_matrix(yr_test, yr_pred_xgb),\n",
        "                annot=True, fmt = \"d\", linecolor=\"k\", linewidths=3)\n",
        "\n",
        "plt.title(\"XGBoost Confusion Matrix\",fontsize=14)\n",
        "plt.show()"
      ]
    },
    {
      "cell_type": "markdown",
      "metadata": {},
      "source": [
        "The XGBoost model demonstrates outstanding performance, correctly predicting 726 negative cases and 661 positive cases. It only makes a small number of errors, with 31 false positives and 43 false negatives, indicating a very strong ability to distinguish between classes. This results in a high overall accuracy, along with excellent precision and recall, making XGBoost the best-performing model among those evaluated. The low number of misclassifications highlights the model's robustness and reliability for churn prediction.\n",
        "\n"
      ]
    },
    {
      "cell_type": "markdown",
      "metadata": {},
      "source": [
        "### ROC"
      ]
    },
    {
      "cell_type": "code",
      "execution_count": null,
      "metadata": {},
      "outputs": [
        {
          "data": {
            "image/png": "[encoded data removed]",
            "text/plain": [
              "<Figure size 800x600 with 1 Axes>"
            ]
          },
          "metadata": {},
          "output_type": "display_data"
        }
      ],
      "source": [
        "# 1. Predict probabilities for each model\n",
        "yr_proba_dt = dt_model_r.predict_proba(xr_test)[:, 1]  \n",
        "yr_proba_rf = rfc_model_r.predict_proba(xr_test)[:, 1]  \n",
        "yr_proba_xgb = xgb_model_r.predict_proba(xr_test)[:, 1]\n",
        "\n",
        "# 2. Calculate ROC curves\n",
        "fpr_dt, tpr_dt, _ = roc_curve(yr_test, yr_proba_dt)\n",
        "fpr_rf, tpr_rf, _ = roc_curve(yr_test, yr_proba_rf)\n",
        "fpr_xgb, tpr_xgb, _ = roc_curve(yr_test, yr_proba_xgb)\n",
        "\n",
        "# 3. Calculate ROC AUC scores\n",
        "roc_auc_dt = roc_auc_score(yr_test, yr_proba_dt)\n",
        "roc_auc_rf = roc_auc_score(yr_test, yr_proba_rf)\n",
        "roc_auc_xgb = roc_auc_score(yr_test, yr_proba_xgb)\n",
        "\n",
        "# 4. Plot ROC Curves\n",
        "plt.figure(figsize=(8,6))\n",
        "\n",
        "plt.plot(fpr_dt, tpr_dt, label=f'Decision Tree (AUC = {roc_auc_dt:.2f})')\n",
        "plt.plot(fpr_rf, tpr_rf, label=f'Random Forest (AUC = {roc_auc_rf:.2f})')\n",
        "plt.plot(fpr_xgb, tpr_xgb, label=f'XGBoost (AUC = {roc_auc_xgb:.2f})')\n",
        "\n",
        "# Random guessing line\n",
        "plt.plot([0, 1], [0, 1], 'k--')\n",
        "\n",
        "# Plot settings\n",
        "plt.xlabel('False Positive Rate')\n",
        "plt.ylabel('True Positive Rate')\n",
        "plt.title('ROC Curve Comparison')\n",
        "plt.legend(loc='lower right')\n",
        "plt.grid()\n",
        "plt.show()\n"
      ]
    },
    {
      "cell_type": "markdown",
      "metadata": {},
      "source": [
        "Based on the ROC curve analysis, XGBoost demonstrated the highest performance among the evaluated models, achieving an outstanding AUC score of 0.99. This indicates that XGBoost is exceptionally effective at distinguishing between the classes, with near-perfect classification ability. Compared to Decision Tree (AUC = 0.89) and Random Forest (AUC = 0.98), XGBoost shows superior predictive power and generalization, making it the most reliable model for deployment or decision-making in this task."
      ]
    },
    {
      "cell_type": "markdown",
      "metadata": {},
      "source": [
        "### Feature Importance"
      ]
    },
    {
      "cell_type": "code",
      "execution_count": null,
      "metadata": {},
      "outputs": [
        {
          "data": {
            "image/png": "[encoded data removed]",
            "text/plain": [
              "<Figure size 800x500 with 1 Axes>"
            ]
          },
          "metadata": {},
          "output_type": "display_data"
        }
      ],
      "source": [
        "importances = xgb_model_r.feature_importances_\n",
        "\n",
        "feature_importance_df = pd.DataFrame({'Feature': X.columns, 'Importance': importances})\n",
        "feature_importance_df = feature_importance_df.sort_values(by='Importance', ascending=False)\n",
        "\n",
        "# 5 top features\n",
        "top_5_features = feature_importance_df.head(5)\n",
        "\n",
        "# Plot feature importance\n",
        "plt.figure(figsize=(8, 5))\n",
        "plt.barh(top_5_features['Feature'], top_5_features['Importance'])\n",
        "plt.xlabel('Importance')\n",
        "plt.ylabel('Feature')\n",
        "plt.title('Top 5 Feature Importances')\n",
        "plt.gca().invert_yaxis() \n",
        "plt.show()"
      ]
    },
    {
      "cell_type": "markdown",
      "metadata": {},
      "source": [
        "**total_day_charge** is the most important feature in this model because it contributes the most to improving the model's performance."
      ]
    },
    {
      "cell_type": "markdown",
      "metadata": {},
      "source": [
        "## **Save The Model**"
      ]
    },
    {
      "cell_type": "code",
      "execution_count": 24,
      "metadata": {},
      "outputs": [],
      "source": [
        "pickle.dump(xgb_model_r, open('xgb_model_smote.sav', 'wb'))"
      ]
    },
    {
      "cell_type": "code",
      "execution_count": 25,
      "metadata": {},
      "outputs": [
        {
          "name": "stdout",
          "output_type": "stream",
          "text": [
            "Predictions added and saved successfully!\n"
          ]
        }
      ],
      "source": [
        "# load model\n",
        "model = joblib.load('xgb_model_smote.sav')\n",
        "data = pd.read_csv('Data Test (C2).csv')\n",
        "\n",
        "# drop column and encoding feature\n",
        "data = data.iloc[:, 1:]\n",
        "\n",
        "for column in data.select_dtypes(include=['object']).columns:\n",
        "    data[column] = data[column].astype('category').cat.codes\n",
        "\n",
        "# predict\n",
        "predictions = model.predict(data)\n",
        "\n",
        "# add new column\n",
        "data['Prediction'] = predictions\n",
        "\n",
        "# save\n",
        "data.to_csv('new_data_with_predictions.csv', index=False)\n",
        "\n",
        "print(\"Predictions added and saved successfully!\")\n"
      ]
    },
    {
      "cell_type": "markdown",
      "metadata": {},
      "source": [
        "## **Conclusion**\n",
        "\n",
        "The churn prediction analysis successfully identified the **XGBoost model** as the top-performing algorithm among the models evaluated. Based on both **cross-validation results** and **test set performance**, XGBoost achieved an **AUC score of 0.99**, indicating an outstanding ability to distinguish between customers who churn and those who stay.\n",
        "\n",
        "The model demonstrated high **accuracy (94%)**, precision, and recall, with a very small number of misclassifications, confirming its robustness and reliability for real-world application.\n",
        "\n",
        "Feature importance analysis revealed that **total_day_charge** was the most influential factor in predicting churn, meaning that customers' daily charges are strongly linked to their likelihood of leaving. This insight provides valuable guidance for targeted customer retention strategies.\n",
        "\n",
        "Overall, the XGBoost model offers a powerful and accurate solution for churn prediction, enabling the business to proactively address at-risk customers and improve customer loyalty efforts.\n"
      ]
    }
  ],
  "metadata": {
    "colab": {
      "provenance": []
    },
    "kernelspec": {
      "display_name": "Python 3",
      "name": "python3"
    },
    "language_info": {
      "codemirror_mode": {
        "name": "ipython",
        "version": 3
      },
      "file_extension": ".py",
      "mimetype": "text/x-python",
      "name": "python",
      "nbconvert_exporter": "python",
      "pygments_lexer": "ipython3",
      "version": "3.8.10"
    }
  },
  "nbformat": 4,
  "nbformat_minor": 0
}
